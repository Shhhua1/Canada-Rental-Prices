{
 "cells": [
  {
   "cell_type": "code",
   "execution_count": 274,
   "id": "49fa5bc8",
   "metadata": {},
   "outputs": [],
   "source": [
    "import pandas as pd\n",
    "import numpy as np\n"
   ]
  },
  {
   "cell_type": "code",
   "execution_count": 275,
   "id": "a63eb833",
   "metadata": {},
   "outputs": [
    {
     "name": "stdout",
     "output_type": "stream",
     "text": [
      "<class 'pandas.core.frame.DataFrame'>\n",
      "RangeIndex: 25771 entries, 0 to 25770\n",
      "Data columns (total 18 columns):\n",
      " #   Column             Non-Null Count  Dtype  \n",
      "---  ------             --------------  -----  \n",
      " 0   rentfaster_id      25771 non-null  int64  \n",
      " 1   city               25771 non-null  object \n",
      " 2   province           25771 non-null  object \n",
      " 3   address            25646 non-null  object \n",
      " 4   latitude           25771 non-null  float64\n",
      " 5   longitude          25771 non-null  float64\n",
      " 6   lease_term         25725 non-null  object \n",
      " 7   type               25771 non-null  object \n",
      " 8   price              25771 non-null  float64\n",
      " 9   beds               25639 non-null  object \n",
      " 10  baths              25637 non-null  object \n",
      " 11  sq_feet            21659 non-null  object \n",
      " 12  link               25771 non-null  object \n",
      " 13  furnishing         25771 non-null  object \n",
      " 14  availability_date  25759 non-null  object \n",
      " 15  smoking            23069 non-null  object \n",
      " 16  cats               25598 non-null  object \n",
      " 17  dogs               25598 non-null  object \n",
      "dtypes: float64(3), int64(1), object(14)\n",
      "memory usage: 3.5+ MB\n"
     ]
    },
    {
     "data": {
      "text/html": [
       "<div>\n",
       "<style scoped>\n",
       "    .dataframe tbody tr th:only-of-type {\n",
       "        vertical-align: middle;\n",
       "    }\n",
       "\n",
       "    .dataframe tbody tr th {\n",
       "        vertical-align: top;\n",
       "    }\n",
       "\n",
       "    .dataframe thead th {\n",
       "        text-align: right;\n",
       "    }\n",
       "</style>\n",
       "<table border=\"1\" class=\"dataframe\">\n",
       "  <thead>\n",
       "    <tr style=\"text-align: right;\">\n",
       "      <th></th>\n",
       "      <th>rentfaster_id</th>\n",
       "      <th>city</th>\n",
       "      <th>province</th>\n",
       "      <th>address</th>\n",
       "      <th>latitude</th>\n",
       "      <th>longitude</th>\n",
       "      <th>lease_term</th>\n",
       "      <th>type</th>\n",
       "      <th>price</th>\n",
       "      <th>beds</th>\n",
       "      <th>baths</th>\n",
       "      <th>sq_feet</th>\n",
       "      <th>link</th>\n",
       "      <th>furnishing</th>\n",
       "      <th>availability_date</th>\n",
       "      <th>smoking</th>\n",
       "      <th>cats</th>\n",
       "      <th>dogs</th>\n",
       "    </tr>\n",
       "  </thead>\n",
       "  <tbody>\n",
       "    <tr>\n",
       "      <th>13024</th>\n",
       "      <td>570328</td>\n",
       "      <td>Calgary</td>\n",
       "      <td>Alberta</td>\n",
       "      <td>Herron Walk NE</td>\n",
       "      <td>51.190039</td>\n",
       "      <td>-114.052503</td>\n",
       "      <td>Long Term</td>\n",
       "      <td>Basement</td>\n",
       "      <td>1300.0</td>\n",
       "      <td>1 Bed</td>\n",
       "      <td>1</td>\n",
       "      <td>600</td>\n",
       "      <td>/ab/calgary/rentals/basement/1-bedroom/livings...</td>\n",
       "      <td>Unfurnished</td>\n",
       "      <td>July 01</td>\n",
       "      <td>Non-Smoking</td>\n",
       "      <td>True</td>\n",
       "      <td>False</td>\n",
       "    </tr>\n",
       "    <tr>\n",
       "      <th>4691</th>\n",
       "      <td>569598</td>\n",
       "      <td>Calgary</td>\n",
       "      <td>Alberta</td>\n",
       "      <td>25 Walgrove Walk Southeast</td>\n",
       "      <td>50.866188</td>\n",
       "      <td>-114.027240</td>\n",
       "      <td>Long Term</td>\n",
       "      <td>Apartment</td>\n",
       "      <td>2200.0</td>\n",
       "      <td>2 Beds</td>\n",
       "      <td>2</td>\n",
       "      <td>1100</td>\n",
       "      <td>/ab/calgary/rentals/apartment/2-bedrooms/walde...</td>\n",
       "      <td>Unfurnished</td>\n",
       "      <td>Call for Availability</td>\n",
       "      <td>Non-Smoking</td>\n",
       "      <td>False</td>\n",
       "      <td>False</td>\n",
       "    </tr>\n",
       "    <tr>\n",
       "      <th>37</th>\n",
       "      <td>563675</td>\n",
       "      <td>Airdrie</td>\n",
       "      <td>Alberta</td>\n",
       "      <td>171 Baneberry Way SW</td>\n",
       "      <td>51.292034</td>\n",
       "      <td>-114.050214</td>\n",
       "      <td>12 months</td>\n",
       "      <td>House</td>\n",
       "      <td>2800.0</td>\n",
       "      <td>3 Beds</td>\n",
       "      <td>2.5</td>\n",
       "      <td>2100</td>\n",
       "      <td>/ab/airdrie/rentals/house/3-bedrooms/non-smoki...</td>\n",
       "      <td>Unfurnished</td>\n",
       "      <td>Immediate</td>\n",
       "      <td>Non-Smoking</td>\n",
       "      <td>False</td>\n",
       "      <td>False</td>\n",
       "    </tr>\n",
       "    <tr>\n",
       "      <th>24693</th>\n",
       "      <td>315466</td>\n",
       "      <td>Montréal</td>\n",
       "      <td>Quebec</td>\n",
       "      <td>520 rue de Gaspé</td>\n",
       "      <td>45.456078</td>\n",
       "      <td>-73.548578</td>\n",
       "      <td>Long Term</td>\n",
       "      <td>Apartment</td>\n",
       "      <td>1449.0</td>\n",
       "      <td>1 Bed</td>\n",
       "      <td>1</td>\n",
       "      <td>750</td>\n",
       "      <td>/qc/montreal/rentals/apartment/1-bedroom/pet-f...</td>\n",
       "      <td>Unfurnished</td>\n",
       "      <td>August 01</td>\n",
       "      <td>Non-Smoking</td>\n",
       "      <td>True</td>\n",
       "      <td>True</td>\n",
       "    </tr>\n",
       "    <tr>\n",
       "      <th>20992</th>\n",
       "      <td>383122</td>\n",
       "      <td>Toronto</td>\n",
       "      <td>Ontario</td>\n",
       "      <td>44 Lillian Street</td>\n",
       "      <td>43.705655</td>\n",
       "      <td>-79.393608</td>\n",
       "      <td>Long Term</td>\n",
       "      <td>Apartment</td>\n",
       "      <td>3525.0</td>\n",
       "      <td>2 Beds</td>\n",
       "      <td>2</td>\n",
       "      <td>828</td>\n",
       "      <td>/on/toronto/rentals/apartment/1-bedroom/pet-fr...</td>\n",
       "      <td>Unfurnished</td>\n",
       "      <td>July 31</td>\n",
       "      <td>Non-Smoking</td>\n",
       "      <td>True</td>\n",
       "      <td>True</td>\n",
       "    </tr>\n",
       "  </tbody>\n",
       "</table>\n",
       "</div>"
      ],
      "text/plain": [
       "       rentfaster_id      city province                     address  \\\n",
       "13024         570328   Calgary  Alberta              Herron Walk NE   \n",
       "4691          569598   Calgary  Alberta  25 Walgrove Walk Southeast   \n",
       "37            563675   Airdrie  Alberta        171 Baneberry Way SW   \n",
       "24693         315466  Montréal   Quebec            520 rue de Gaspé   \n",
       "20992         383122   Toronto  Ontario           44 Lillian Street   \n",
       "\n",
       "        latitude   longitude lease_term       type   price    beds baths  \\\n",
       "13024  51.190039 -114.052503  Long Term   Basement  1300.0   1 Bed     1   \n",
       "4691   50.866188 -114.027240  Long Term  Apartment  2200.0  2 Beds     2   \n",
       "37     51.292034 -114.050214  12 months      House  2800.0  3 Beds   2.5   \n",
       "24693  45.456078  -73.548578  Long Term  Apartment  1449.0   1 Bed     1   \n",
       "20992  43.705655  -79.393608  Long Term  Apartment  3525.0  2 Beds     2   \n",
       "\n",
       "      sq_feet                                               link   furnishing  \\\n",
       "13024     600  /ab/calgary/rentals/basement/1-bedroom/livings...  Unfurnished   \n",
       "4691     1100  /ab/calgary/rentals/apartment/2-bedrooms/walde...  Unfurnished   \n",
       "37       2100  /ab/airdrie/rentals/house/3-bedrooms/non-smoki...  Unfurnished   \n",
       "24693     750  /qc/montreal/rentals/apartment/1-bedroom/pet-f...  Unfurnished   \n",
       "20992     828  /on/toronto/rentals/apartment/1-bedroom/pet-fr...  Unfurnished   \n",
       "\n",
       "           availability_date      smoking   cats   dogs  \n",
       "13024                July 01  Non-Smoking   True  False  \n",
       "4691   Call for Availability  Non-Smoking  False  False  \n",
       "37                 Immediate  Non-Smoking  False  False  \n",
       "24693              August 01  Non-Smoking   True   True  \n",
       "20992                July 31  Non-Smoking   True   True  "
      ]
     },
     "execution_count": 275,
     "metadata": {},
     "output_type": "execute_result"
    }
   ],
   "source": [
    "# Loading in the dataset and doing an initial check\n",
    "df = pd.read_csv('rentfaster.csv')\n",
    "\n",
    "df.head()\n",
    "df.shape\n",
    "df.columns\n",
    "df.info()\n",
    "df.describe()\n",
    "df.sample(n=5, random_state=1)"
   ]
  },
  {
   "cell_type": "code",
   "execution_count": 276,
   "id": "60c1836a",
   "metadata": {},
   "outputs": [
    {
     "data": {
      "text/plain": [
       "rentfaster_id        0\n",
       "city                 0\n",
       "province             0\n",
       "address              0\n",
       "latitude             0\n",
       "longitude            0\n",
       "lease_term           0\n",
       "type                 0\n",
       "price                0\n",
       "beds                 0\n",
       "baths                0\n",
       "sq_feet              0\n",
       "link                 0\n",
       "furnishing           0\n",
       "availability_date    0\n",
       "smoking              0\n",
       "cats                 0\n",
       "dogs                 0\n",
       "dtype: int64"
      ]
     },
     "execution_count": 276,
     "metadata": {},
     "output_type": "execute_result"
    }
   ],
   "source": [
    "# Checking for null values\n",
    "df.isnull().sum()\n",
    "\n",
    "# Removing the null values\n",
    "df.dropna(inplace=True)\n",
    "df.isnull().sum()"
   ]
  },
  {
   "cell_type": "code",
   "execution_count": 277,
   "id": "9dc83984",
   "metadata": {},
   "outputs": [],
   "source": [
    "# Dropping duplicate rows\n",
    "df.drop_duplicates(inplace=True)"
   ]
  },
  {
   "cell_type": "code",
   "execution_count": 278,
   "id": "90c21b1e",
   "metadata": {},
   "outputs": [
    {
     "data": {
      "text/plain": [
       "array(['2 Beds', '3 Beds', 'Studio', '1 Bed', '5 Beds', '4 Beds',\n",
       "       '6 Beds', '8 Beds', '7 Beds', '9 Beds'], dtype=object)"
      ]
     },
     "execution_count": 278,
     "metadata": {},
     "output_type": "execute_result"
    }
   ],
   "source": [
    "# Checking what values are in the 'beds' column\n",
    "df['beds'].unique()"
   ]
  },
  {
   "cell_type": "code",
   "execution_count": 279,
   "id": "8af535d3",
   "metadata": {},
   "outputs": [
    {
     "data": {
      "text/plain": [
       "array(['2', '3', '0', '1', '5', '4', '6', '8', '7', '9'], dtype=object)"
      ]
     },
     "execution_count": 279,
     "metadata": {},
     "output_type": "execute_result"
    }
   ],
   "source": [
    "# Removing strings from beds column\n",
    "df['beds'] = df['beds'].str.replace('Bed', '')\n",
    "df['beds'] = df['beds'].str.replace('s', '')\n",
    "df['beds'] = df['beds'].str.replace('Studio', '0')\n",
    "df['beds'] = df['beds'].str.replace(' ', '')\n",
    "\n",
    "df['beds'].unique()"
   ]
  },
  {
   "cell_type": "code",
   "execution_count": 280,
   "id": "e4d3d3dd",
   "metadata": {},
   "outputs": [
    {
     "data": {
      "text/plain": [
       "array([2, 3, 0, 1, 5, 4, 6, 8, 7, 9])"
      ]
     },
     "execution_count": 280,
     "metadata": {},
     "output_type": "execute_result"
    }
   ],
   "source": [
    "# Converting beds column to numeric (int) and checking for any non-numeric values\n",
    "df['beds'] = pd.to_numeric(df['beds'], errors='coerce')\n",
    "df['beds'].unique()"
   ]
  },
  {
   "cell_type": "code",
   "execution_count": 281,
   "id": "79e7bced",
   "metadata": {},
   "outputs": [
    {
     "data": {
      "text/html": [
       "<div>\n",
       "<style scoped>\n",
       "    .dataframe tbody tr th:only-of-type {\n",
       "        vertical-align: middle;\n",
       "    }\n",
       "\n",
       "    .dataframe tbody tr th {\n",
       "        vertical-align: top;\n",
       "    }\n",
       "\n",
       "    .dataframe thead th {\n",
       "        text-align: right;\n",
       "    }\n",
       "</style>\n",
       "<table border=\"1\" class=\"dataframe\">\n",
       "  <thead>\n",
       "    <tr style=\"text-align: right;\">\n",
       "      <th></th>\n",
       "      <th>rentfaster_id</th>\n",
       "      <th>city</th>\n",
       "      <th>province</th>\n",
       "      <th>address</th>\n",
       "      <th>latitude</th>\n",
       "      <th>longitude</th>\n",
       "      <th>lease_term</th>\n",
       "      <th>type</th>\n",
       "      <th>price</th>\n",
       "      <th>beds</th>\n",
       "      <th>baths</th>\n",
       "      <th>sq_feet</th>\n",
       "      <th>link</th>\n",
       "      <th>furnishing</th>\n",
       "      <th>availability_date</th>\n",
       "      <th>smoking</th>\n",
       "      <th>cats</th>\n",
       "      <th>dogs</th>\n",
       "    </tr>\n",
       "  </thead>\n",
       "  <tbody>\n",
       "    <tr>\n",
       "      <th>22803</th>\n",
       "      <td>508616</td>\n",
       "      <td>Côte Saint-Luc</td>\n",
       "      <td>Quebec</td>\n",
       "      <td>5885 Ave. Marc Chagall</td>\n",
       "      <td>45.480288</td>\n",
       "      <td>-73.663982</td>\n",
       "      <td>Long Term</td>\n",
       "      <td>Apartment</td>\n",
       "      <td>2450.0</td>\n",
       "      <td>2</td>\n",
       "      <td>1</td>\n",
       "      <td>1005</td>\n",
       "      <td>/qc/c-te-saint-luc/rentals/apartment/1-bedroom...</td>\n",
       "      <td>Unfurnished</td>\n",
       "      <td>July 01</td>\n",
       "      <td>Non-Smoking</td>\n",
       "      <td>True</td>\n",
       "      <td>True</td>\n",
       "    </tr>\n",
       "    <tr>\n",
       "      <th>3432</th>\n",
       "      <td>406910</td>\n",
       "      <td>Calgary</td>\n",
       "      <td>Alberta</td>\n",
       "      <td>323 5 Avenue Northeast</td>\n",
       "      <td>51.056884</td>\n",
       "      <td>-114.056342</td>\n",
       "      <td>Long Term</td>\n",
       "      <td>Apartment</td>\n",
       "      <td>1625.0</td>\n",
       "      <td>1</td>\n",
       "      <td>1</td>\n",
       "      <td>578</td>\n",
       "      <td>/ab/calgary/rentals/apartment/1-bedroom/cresce...</td>\n",
       "      <td>Unfurnished</td>\n",
       "      <td>No Vacancy</td>\n",
       "      <td>Non-Smoking</td>\n",
       "      <td>False</td>\n",
       "      <td>False</td>\n",
       "    </tr>\n",
       "    <tr>\n",
       "      <th>14871</th>\n",
       "      <td>569577</td>\n",
       "      <td>Victoria</td>\n",
       "      <td>British Columbia</td>\n",
       "      <td>45 Gorge Rd E</td>\n",
       "      <td>48.443404</td>\n",
       "      <td>-123.387582</td>\n",
       "      <td>Long Term</td>\n",
       "      <td>Apartment</td>\n",
       "      <td>3100.0</td>\n",
       "      <td>2</td>\n",
       "      <td>2</td>\n",
       "      <td>841</td>\n",
       "      <td>/bc/victoria/rentals/apartment/1-bedroom/domin...</td>\n",
       "      <td>Unfurnished</td>\n",
       "      <td>Immediate</td>\n",
       "      <td>Non-Smoking</td>\n",
       "      <td>True</td>\n",
       "      <td>True</td>\n",
       "    </tr>\n",
       "    <tr>\n",
       "      <th>4276</th>\n",
       "      <td>530963</td>\n",
       "      <td>Calgary</td>\n",
       "      <td>Alberta</td>\n",
       "      <td>Tuscany</td>\n",
       "      <td>51.130770</td>\n",
       "      <td>-114.254658</td>\n",
       "      <td>Long Term</td>\n",
       "      <td>House</td>\n",
       "      <td>4100.0</td>\n",
       "      <td>5</td>\n",
       "      <td>3.5</td>\n",
       "      <td>2400</td>\n",
       "      <td>/ab/calgary/rentals/house/5-bedrooms/tuscany/p...</td>\n",
       "      <td>Unfurnished</td>\n",
       "      <td>August 01</td>\n",
       "      <td>Non-Smoking</td>\n",
       "      <td>True</td>\n",
       "      <td>True</td>\n",
       "    </tr>\n",
       "    <tr>\n",
       "      <th>5388</th>\n",
       "      <td>437811</td>\n",
       "      <td>Edmonton</td>\n",
       "      <td>Alberta</td>\n",
       "      <td>8122 106 ST NW</td>\n",
       "      <td>53.517723</td>\n",
       "      <td>-113.503495</td>\n",
       "      <td>Long Term</td>\n",
       "      <td>Apartment</td>\n",
       "      <td>1719.0</td>\n",
       "      <td>1</td>\n",
       "      <td>1</td>\n",
       "      <td>635</td>\n",
       "      <td>/ab/edmonton/rentals/apartment/1-bedroom/old-s...</td>\n",
       "      <td>Unfurnished</td>\n",
       "      <td>Immediate</td>\n",
       "      <td>Non-Smoking</td>\n",
       "      <td>True</td>\n",
       "      <td>True</td>\n",
       "    </tr>\n",
       "  </tbody>\n",
       "</table>\n",
       "</div>"
      ],
      "text/plain": [
       "       rentfaster_id            city          province  \\\n",
       "22803         508616  Côte Saint-Luc            Quebec   \n",
       "3432          406910         Calgary           Alberta   \n",
       "14871         569577        Victoria  British Columbia   \n",
       "4276          530963         Calgary           Alberta   \n",
       "5388          437811        Edmonton           Alberta   \n",
       "\n",
       "                      address   latitude   longitude lease_term       type  \\\n",
       "22803  5885 Ave. Marc Chagall  45.480288  -73.663982  Long Term  Apartment   \n",
       "3432   323 5 Avenue Northeast  51.056884 -114.056342  Long Term  Apartment   \n",
       "14871           45 Gorge Rd E  48.443404 -123.387582  Long Term  Apartment   \n",
       "4276                  Tuscany  51.130770 -114.254658  Long Term      House   \n",
       "5388           8122 106 ST NW  53.517723 -113.503495  Long Term  Apartment   \n",
       "\n",
       "        price  beds baths sq_feet  \\\n",
       "22803  2450.0     2     1    1005   \n",
       "3432   1625.0     1     1     578   \n",
       "14871  3100.0     2     2     841   \n",
       "4276   4100.0     5   3.5    2400   \n",
       "5388   1719.0     1     1     635   \n",
       "\n",
       "                                                    link   furnishing  \\\n",
       "22803  /qc/c-te-saint-luc/rentals/apartment/1-bedroom...  Unfurnished   \n",
       "3432   /ab/calgary/rentals/apartment/1-bedroom/cresce...  Unfurnished   \n",
       "14871  /bc/victoria/rentals/apartment/1-bedroom/domin...  Unfurnished   \n",
       "4276   /ab/calgary/rentals/house/5-bedrooms/tuscany/p...  Unfurnished   \n",
       "5388   /ab/edmonton/rentals/apartment/1-bedroom/old-s...  Unfurnished   \n",
       "\n",
       "      availability_date      smoking   cats   dogs  \n",
       "22803           July 01  Non-Smoking   True   True  \n",
       "3432         No Vacancy  Non-Smoking  False  False  \n",
       "14871         Immediate  Non-Smoking   True   True  \n",
       "4276          August 01  Non-Smoking   True   True  \n",
       "5388          Immediate  Non-Smoking   True   True  "
      ]
     },
     "execution_count": 281,
     "metadata": {},
     "output_type": "execute_result"
    }
   ],
   "source": [
    "df.sample(n=5, random_state=1)"
   ]
  },
  {
   "cell_type": "code",
   "execution_count": 282,
   "id": "5beb2e76",
   "metadata": {},
   "outputs": [
    {
     "data": {
      "text/html": [
       "<div>\n",
       "<style scoped>\n",
       "    .dataframe tbody tr th:only-of-type {\n",
       "        vertical-align: middle;\n",
       "    }\n",
       "\n",
       "    .dataframe tbody tr th {\n",
       "        vertical-align: top;\n",
       "    }\n",
       "\n",
       "    .dataframe thead th {\n",
       "        text-align: right;\n",
       "    }\n",
       "</style>\n",
       "<table border=\"1\" class=\"dataframe\">\n",
       "  <thead>\n",
       "    <tr style=\"text-align: right;\">\n",
       "      <th></th>\n",
       "      <th>rentfaster_id</th>\n",
       "      <th>city</th>\n",
       "      <th>province</th>\n",
       "      <th>address</th>\n",
       "      <th>latitude</th>\n",
       "      <th>longitude</th>\n",
       "      <th>lease_term</th>\n",
       "      <th>type</th>\n",
       "      <th>price</th>\n",
       "      <th>beds</th>\n",
       "      <th>baths</th>\n",
       "      <th>sq_feet</th>\n",
       "      <th>smoking</th>\n",
       "    </tr>\n",
       "  </thead>\n",
       "  <tbody>\n",
       "    <tr>\n",
       "      <th>22803</th>\n",
       "      <td>508616</td>\n",
       "      <td>Côte Saint-Luc</td>\n",
       "      <td>Quebec</td>\n",
       "      <td>5885 Ave. Marc Chagall</td>\n",
       "      <td>45.480288</td>\n",
       "      <td>-73.663982</td>\n",
       "      <td>Long Term</td>\n",
       "      <td>Apartment</td>\n",
       "      <td>2450.0</td>\n",
       "      <td>2</td>\n",
       "      <td>1</td>\n",
       "      <td>1005</td>\n",
       "      <td>Non-Smoking</td>\n",
       "    </tr>\n",
       "    <tr>\n",
       "      <th>3432</th>\n",
       "      <td>406910</td>\n",
       "      <td>Calgary</td>\n",
       "      <td>Alberta</td>\n",
       "      <td>323 5 Avenue Northeast</td>\n",
       "      <td>51.056884</td>\n",
       "      <td>-114.056342</td>\n",
       "      <td>Long Term</td>\n",
       "      <td>Apartment</td>\n",
       "      <td>1625.0</td>\n",
       "      <td>1</td>\n",
       "      <td>1</td>\n",
       "      <td>578</td>\n",
       "      <td>Non-Smoking</td>\n",
       "    </tr>\n",
       "    <tr>\n",
       "      <th>14871</th>\n",
       "      <td>569577</td>\n",
       "      <td>Victoria</td>\n",
       "      <td>British Columbia</td>\n",
       "      <td>45 Gorge Rd E</td>\n",
       "      <td>48.443404</td>\n",
       "      <td>-123.387582</td>\n",
       "      <td>Long Term</td>\n",
       "      <td>Apartment</td>\n",
       "      <td>3100.0</td>\n",
       "      <td>2</td>\n",
       "      <td>2</td>\n",
       "      <td>841</td>\n",
       "      <td>Non-Smoking</td>\n",
       "    </tr>\n",
       "    <tr>\n",
       "      <th>4276</th>\n",
       "      <td>530963</td>\n",
       "      <td>Calgary</td>\n",
       "      <td>Alberta</td>\n",
       "      <td>Tuscany</td>\n",
       "      <td>51.130770</td>\n",
       "      <td>-114.254658</td>\n",
       "      <td>Long Term</td>\n",
       "      <td>House</td>\n",
       "      <td>4100.0</td>\n",
       "      <td>5</td>\n",
       "      <td>3.5</td>\n",
       "      <td>2400</td>\n",
       "      <td>Non-Smoking</td>\n",
       "    </tr>\n",
       "    <tr>\n",
       "      <th>5388</th>\n",
       "      <td>437811</td>\n",
       "      <td>Edmonton</td>\n",
       "      <td>Alberta</td>\n",
       "      <td>8122 106 ST NW</td>\n",
       "      <td>53.517723</td>\n",
       "      <td>-113.503495</td>\n",
       "      <td>Long Term</td>\n",
       "      <td>Apartment</td>\n",
       "      <td>1719.0</td>\n",
       "      <td>1</td>\n",
       "      <td>1</td>\n",
       "      <td>635</td>\n",
       "      <td>Non-Smoking</td>\n",
       "    </tr>\n",
       "  </tbody>\n",
       "</table>\n",
       "</div>"
      ],
      "text/plain": [
       "       rentfaster_id            city          province  \\\n",
       "22803         508616  Côte Saint-Luc            Quebec   \n",
       "3432          406910         Calgary           Alberta   \n",
       "14871         569577        Victoria  British Columbia   \n",
       "4276          530963         Calgary           Alberta   \n",
       "5388          437811        Edmonton           Alberta   \n",
       "\n",
       "                      address   latitude   longitude lease_term       type  \\\n",
       "22803  5885 Ave. Marc Chagall  45.480288  -73.663982  Long Term  Apartment   \n",
       "3432   323 5 Avenue Northeast  51.056884 -114.056342  Long Term  Apartment   \n",
       "14871           45 Gorge Rd E  48.443404 -123.387582  Long Term  Apartment   \n",
       "4276                  Tuscany  51.130770 -114.254658  Long Term      House   \n",
       "5388           8122 106 ST NW  53.517723 -113.503495  Long Term  Apartment   \n",
       "\n",
       "        price  beds baths sq_feet      smoking  \n",
       "22803  2450.0     2     1    1005  Non-Smoking  \n",
       "3432   1625.0     1     1     578  Non-Smoking  \n",
       "14871  3100.0     2     2     841  Non-Smoking  \n",
       "4276   4100.0     5   3.5    2400  Non-Smoking  \n",
       "5388   1719.0     1     1     635  Non-Smoking  "
      ]
     },
     "execution_count": 282,
     "metadata": {},
     "output_type": "execute_result"
    }
   ],
   "source": [
    "# Dropping unnecessary columns\n",
    "df.drop(columns=['link', 'furnishing', 'cats', 'dogs', 'availability_date'], inplace=True)\n",
    "df.sample(n=5, random_state=1)"
   ]
  },
  {
   "cell_type": "code",
   "execution_count": 283,
   "id": "bc6ef698",
   "metadata": {},
   "outputs": [
    {
     "data": {
      "text/plain": [
       "array(['Non-Smoking', 'Smoke Free Building', 'Negotiable',\n",
       "       'Smoking Allowed'], dtype=object)"
      ]
     },
     "execution_count": 283,
     "metadata": {},
     "output_type": "execute_result"
    }
   ],
   "source": [
    "# Checking smoking column values\n",
    "df['smoking'].unique()\n"
   ]
  },
  {
   "cell_type": "code",
   "execution_count": 284,
   "id": "618da667",
   "metadata": {},
   "outputs": [
    {
     "data": {
      "text/plain": [
       "array(['Non-Smoking', 'Smoke Free Building'], dtype=object)"
      ]
     },
     "execution_count": 284,
     "metadata": {},
     "output_type": "execute_result"
    }
   ],
   "source": [
    "# Removing unwanted values from smoking column\n",
    "df = df.drop(df[df['smoking'] == 'Negotiable'].index)\n",
    "df = df.drop(df[df['smoking'] == 'Smoking Allowed'].index)\n",
    "\n",
    "df['smoking'].unique()"
   ]
  },
  {
   "cell_type": "code",
   "execution_count": 285,
   "id": "6c89ec54",
   "metadata": {},
   "outputs": [
    {
     "data": {
      "text/html": [
       "<div>\n",
       "<style scoped>\n",
       "    .dataframe tbody tr th:only-of-type {\n",
       "        vertical-align: middle;\n",
       "    }\n",
       "\n",
       "    .dataframe tbody tr th {\n",
       "        vertical-align: top;\n",
       "    }\n",
       "\n",
       "    .dataframe thead th {\n",
       "        text-align: right;\n",
       "    }\n",
       "</style>\n",
       "<table border=\"1\" class=\"dataframe\">\n",
       "  <thead>\n",
       "    <tr style=\"text-align: right;\">\n",
       "      <th></th>\n",
       "      <th>rentfaster_id</th>\n",
       "      <th>city</th>\n",
       "      <th>province</th>\n",
       "      <th>address</th>\n",
       "      <th>latitude</th>\n",
       "      <th>longitude</th>\n",
       "      <th>lease_term</th>\n",
       "      <th>type</th>\n",
       "      <th>price</th>\n",
       "      <th>beds</th>\n",
       "      <th>baths</th>\n",
       "      <th>sq_feet</th>\n",
       "    </tr>\n",
       "  </thead>\n",
       "  <tbody>\n",
       "    <tr>\n",
       "      <th>1125</th>\n",
       "      <td>367078</td>\n",
       "      <td>Calgary</td>\n",
       "      <td>Alberta</td>\n",
       "      <td>2304 26 Avenue Northwest</td>\n",
       "      <td>51.076323</td>\n",
       "      <td>-114.113219</td>\n",
       "      <td>Long Term</td>\n",
       "      <td>Main Floor</td>\n",
       "      <td>2000.0</td>\n",
       "      <td>3</td>\n",
       "      <td>1</td>\n",
       "      <td>950</td>\n",
       "    </tr>\n",
       "    <tr>\n",
       "      <th>20594</th>\n",
       "      <td>376808</td>\n",
       "      <td>Toronto</td>\n",
       "      <td>Ontario</td>\n",
       "      <td>25 Montgomery Avenue</td>\n",
       "      <td>43.709298</td>\n",
       "      <td>-79.399749</td>\n",
       "      <td>Long Term</td>\n",
       "      <td>Apartment</td>\n",
       "      <td>3894.0</td>\n",
       "      <td>2</td>\n",
       "      <td>2</td>\n",
       "      <td>963</td>\n",
       "    </tr>\n",
       "    <tr>\n",
       "      <th>5832</th>\n",
       "      <td>554875</td>\n",
       "      <td>Edmonton</td>\n",
       "      <td>Alberta</td>\n",
       "      <td>11009 109A Avenue</td>\n",
       "      <td>53.555480</td>\n",
       "      <td>-113.511683</td>\n",
       "      <td>Long Term</td>\n",
       "      <td>Apartment</td>\n",
       "      <td>2095.0</td>\n",
       "      <td>2</td>\n",
       "      <td>2</td>\n",
       "      <td>983</td>\n",
       "    </tr>\n",
       "    <tr>\n",
       "      <th>25545</th>\n",
       "      <td>407642</td>\n",
       "      <td>Saskatoon</td>\n",
       "      <td>Saskatchewan</td>\n",
       "      <td>111 111 St W, Saskatoon</td>\n",
       "      <td>52.139496</td>\n",
       "      <td>-106.601068</td>\n",
       "      <td>Long Term</td>\n",
       "      <td>Apartment</td>\n",
       "      <td>1375.0</td>\n",
       "      <td>2</td>\n",
       "      <td>1</td>\n",
       "      <td>732</td>\n",
       "    </tr>\n",
       "    <tr>\n",
       "      <th>8816</th>\n",
       "      <td>334193</td>\n",
       "      <td>Wetaskiwin</td>\n",
       "      <td>Alberta</td>\n",
       "      <td>3901-3933 54A St</td>\n",
       "      <td>52.958335</td>\n",
       "      <td>-113.385347</td>\n",
       "      <td>Long Term</td>\n",
       "      <td>Townhouse</td>\n",
       "      <td>1299.0</td>\n",
       "      <td>2</td>\n",
       "      <td>1</td>\n",
       "      <td>870</td>\n",
       "    </tr>\n",
       "  </tbody>\n",
       "</table>\n",
       "</div>"
      ],
      "text/plain": [
       "       rentfaster_id        city      province                   address  \\\n",
       "1125          367078     Calgary       Alberta  2304 26 Avenue Northwest   \n",
       "20594         376808     Toronto       Ontario      25 Montgomery Avenue   \n",
       "5832          554875    Edmonton       Alberta         11009 109A Avenue   \n",
       "25545         407642   Saskatoon  Saskatchewan   111 111 St W, Saskatoon   \n",
       "8816          334193  Wetaskiwin       Alberta          3901-3933 54A St   \n",
       "\n",
       "        latitude   longitude lease_term        type   price  beds baths  \\\n",
       "1125   51.076323 -114.113219  Long Term  Main Floor  2000.0     3     1   \n",
       "20594  43.709298  -79.399749  Long Term   Apartment  3894.0     2     2   \n",
       "5832   53.555480 -113.511683  Long Term   Apartment  2095.0     2     2   \n",
       "25545  52.139496 -106.601068  Long Term   Apartment  1375.0     2     1   \n",
       "8816   52.958335 -113.385347  Long Term   Townhouse  1299.0     2     1   \n",
       "\n",
       "      sq_feet  \n",
       "1125      950  \n",
       "20594     963  \n",
       "5832      983  \n",
       "25545     732  \n",
       "8816      870  "
      ]
     },
     "execution_count": 285,
     "metadata": {},
     "output_type": "execute_result"
    }
   ],
   "source": [
    "# Dropping unnecessary columns\n",
    "df.drop(columns=['smoking'], inplace=True)\n",
    "df.sample(n=5, random_state=1)"
   ]
  },
  {
   "cell_type": "code",
   "execution_count": 286,
   "id": "6cda83a7",
   "metadata": {},
   "outputs": [
    {
     "data": {
      "text/plain": [
       "array(['Townhouse', 'Apartment', 'Main Floor', 'Basement', 'House',\n",
       "       'Condo Unit', 'Room For Rent', 'Duplex', 'Loft', 'Vacation Home',\n",
       "       'Acreage', 'Mobile'], dtype=object)"
      ]
     },
     "execution_count": 286,
     "metadata": {},
     "output_type": "execute_result"
    }
   ],
   "source": [
    "df['type'].unique()"
   ]
  },
  {
   "cell_type": "code",
   "execution_count": 287,
   "id": "6ad648ec",
   "metadata": {},
   "outputs": [
    {
     "data": {
      "text/plain": [
       "array(['Townhouse', 'Apartment', 'Main Floor', 'Basement', 'House',\n",
       "       'Condo Unit', 'Room For Rent', 'Duplex', 'Loft'], dtype=object)"
      ]
     },
     "execution_count": 287,
     "metadata": {},
     "output_type": "execute_result"
    }
   ],
   "source": [
    "# Removing unwanted values from type column\n",
    "df = df.drop(df[df['type'] == 'Mobile'].index)\n",
    "df = df.drop(df[df['type'] == 'Vacation Home'].index)\n",
    "df = df.drop(df[df['type'] == 'Acreage'].index)\n",
    "\n",
    "df['type'].unique()"
   ]
  },
  {
   "cell_type": "code",
   "execution_count": 288,
   "id": "1dd11e09",
   "metadata": {},
   "outputs": [
    {
     "data": {
      "text/plain": [
       "array(['2.5', '1', '2', '1.5', '3.5', '4', '3', '5', 'none', '4.5', '7.5',\n",
       "       '5.5', '6', '6.5', '0', '7'], dtype=object)"
      ]
     },
     "execution_count": 288,
     "metadata": {},
     "output_type": "execute_result"
    }
   ],
   "source": [
    "df['baths'].unique()"
   ]
  },
  {
   "cell_type": "code",
   "execution_count": 289,
   "id": "ca1cb15c",
   "metadata": {},
   "outputs": [
    {
     "data": {
      "text/plain": [
       "array(['2.5', '1', '2', '1.5', '3.5', '4', '3', '5', '4.5', '7.5', '5.5',\n",
       "       '6', '6.5', '0', '7'], dtype=object)"
      ]
     },
     "execution_count": 289,
     "metadata": {},
     "output_type": "execute_result"
    }
   ],
   "source": [
    "# Removing unwanted values from baths column (e.g., 'none')\n",
    "df = df.drop(df[df['baths'] == 'none'].index)\n",
    "df['baths'].unique()"
   ]
  },
  {
   "cell_type": "code",
   "execution_count": 290,
   "id": "619a6606",
   "metadata": {},
   "outputs": [
    {
     "data": {
      "text/plain": [
       "array([2.5, 1. , 2. , 1.5, 3.5, 4. , 3. , 5. , 4.5, 7.5, 5.5, 6. , 6.5,\n",
       "       0. , 7. ])"
      ]
     },
     "execution_count": 290,
     "metadata": {},
     "output_type": "execute_result"
    }
   ],
   "source": [
    "# Converting baths column to numeric (int)\n",
    "df['baths'] = pd.to_numeric(df['baths'], errors='coerce')\n",
    "df['baths'].unique()"
   ]
  },
  {
   "cell_type": "code",
   "execution_count": 291,
   "id": "0de4b045",
   "metadata": {},
   "outputs": [
    {
     "data": {
      "text/plain": [
       "array([2, 1, 3, 4, 5, 7, 6])"
      ]
     },
     "execution_count": 291,
     "metadata": {},
     "output_type": "execute_result"
    }
   ],
   "source": [
    "# Removing unwanted values from baths column (e.g., 0)\n",
    "df = df.drop(df[df['baths'] == 0].index)\n",
    "df['baths'] = df['baths'].astype(int)\n",
    "df['baths'].unique()"
   ]
  },
  {
   "cell_type": "code",
   "execution_count": 292,
   "id": "c10d60d8",
   "metadata": {},
   "outputs": [
    {
     "data": {
      "text/html": [
       "<div>\n",
       "<style scoped>\n",
       "    .dataframe tbody tr th:only-of-type {\n",
       "        vertical-align: middle;\n",
       "    }\n",
       "\n",
       "    .dataframe tbody tr th {\n",
       "        vertical-align: top;\n",
       "    }\n",
       "\n",
       "    .dataframe thead th {\n",
       "        text-align: right;\n",
       "    }\n",
       "</style>\n",
       "<table border=\"1\" class=\"dataframe\">\n",
       "  <thead>\n",
       "    <tr style=\"text-align: right;\">\n",
       "      <th></th>\n",
       "      <th>rentfaster_id</th>\n",
       "      <th>city</th>\n",
       "      <th>province</th>\n",
       "      <th>address</th>\n",
       "      <th>latitude</th>\n",
       "      <th>longitude</th>\n",
       "      <th>lease_term</th>\n",
       "      <th>type</th>\n",
       "      <th>price</th>\n",
       "      <th>beds</th>\n",
       "      <th>baths</th>\n",
       "      <th>sq_feet</th>\n",
       "    </tr>\n",
       "  </thead>\n",
       "  <tbody>\n",
       "    <tr>\n",
       "      <th>1287</th>\n",
       "      <td>543315</td>\n",
       "      <td>Calgary</td>\n",
       "      <td>Alberta</td>\n",
       "      <td>239 15 Avenue Northeast</td>\n",
       "      <td>51.065832</td>\n",
       "      <td>-114.057865</td>\n",
       "      <td>Long Term</td>\n",
       "      <td>House</td>\n",
       "      <td>1875.0</td>\n",
       "      <td>2</td>\n",
       "      <td>1</td>\n",
       "      <td>850</td>\n",
       "    </tr>\n",
       "    <tr>\n",
       "      <th>8259</th>\n",
       "      <td>479456</td>\n",
       "      <td>Grande Prairie</td>\n",
       "      <td>Alberta</td>\n",
       "      <td>9702 Prairie Road</td>\n",
       "      <td>55.153757</td>\n",
       "      <td>-118.787108</td>\n",
       "      <td>Long Term</td>\n",
       "      <td>Apartment</td>\n",
       "      <td>1345.0</td>\n",
       "      <td>2</td>\n",
       "      <td>1</td>\n",
       "      <td>873</td>\n",
       "    </tr>\n",
       "    <tr>\n",
       "      <th>3046</th>\n",
       "      <td>572511</td>\n",
       "      <td>Calgary</td>\n",
       "      <td>Alberta</td>\n",
       "      <td>850 Belmont Drive Southwest</td>\n",
       "      <td>50.863674</td>\n",
       "      <td>-114.064516</td>\n",
       "      <td>Long Term</td>\n",
       "      <td>Townhouse</td>\n",
       "      <td>2600.0</td>\n",
       "      <td>3</td>\n",
       "      <td>2</td>\n",
       "      <td>1400</td>\n",
       "    </tr>\n",
       "    <tr>\n",
       "      <th>24915</th>\n",
       "      <td>315477</td>\n",
       "      <td>Quebec City</td>\n",
       "      <td>Quebec</td>\n",
       "      <td>100-850 Rue Laudance</td>\n",
       "      <td>46.761221</td>\n",
       "      <td>-71.335908</td>\n",
       "      <td>Long Term</td>\n",
       "      <td>Apartment</td>\n",
       "      <td>1599.0</td>\n",
       "      <td>1</td>\n",
       "      <td>1</td>\n",
       "      <td>884</td>\n",
       "    </tr>\n",
       "    <tr>\n",
       "      <th>19124</th>\n",
       "      <td>568239</td>\n",
       "      <td>Ottawa</td>\n",
       "      <td>Ontario</td>\n",
       "      <td>1291 Summerville Avenue</td>\n",
       "      <td>45.377126</td>\n",
       "      <td>-75.729401</td>\n",
       "      <td>Long Term</td>\n",
       "      <td>Apartment</td>\n",
       "      <td>2545.0</td>\n",
       "      <td>2</td>\n",
       "      <td>2</td>\n",
       "      <td>930</td>\n",
       "    </tr>\n",
       "  </tbody>\n",
       "</table>\n",
       "</div>"
      ],
      "text/plain": [
       "       rentfaster_id            city province                      address  \\\n",
       "1287          543315         Calgary  Alberta      239 15 Avenue Northeast   \n",
       "8259          479456  Grande Prairie  Alberta            9702 Prairie Road   \n",
       "3046          572511         Calgary  Alberta  850 Belmont Drive Southwest   \n",
       "24915         315477     Quebec City   Quebec         100-850 Rue Laudance   \n",
       "19124         568239          Ottawa  Ontario      1291 Summerville Avenue   \n",
       "\n",
       "        latitude   longitude lease_term       type   price  beds  baths  \\\n",
       "1287   51.065832 -114.057865  Long Term      House  1875.0     2      1   \n",
       "8259   55.153757 -118.787108  Long Term  Apartment  1345.0     2      1   \n",
       "3046   50.863674 -114.064516  Long Term  Townhouse  2600.0     3      2   \n",
       "24915  46.761221  -71.335908  Long Term  Apartment  1599.0     1      1   \n",
       "19124  45.377126  -75.729401  Long Term  Apartment  2545.0     2      2   \n",
       "\n",
       "      sq_feet  \n",
       "1287      850  \n",
       "8259      873  \n",
       "3046     1400  \n",
       "24915     884  \n",
       "19124     930  "
      ]
     },
     "execution_count": 292,
     "metadata": {},
     "output_type": "execute_result"
    }
   ],
   "source": [
    "df.sample(n=5, random_state=1)"
   ]
  },
  {
   "cell_type": "code",
   "execution_count": 293,
   "id": "01b7b1de",
   "metadata": {},
   "outputs": [
    {
     "name": "stdout",
     "output_type": "stream",
     "text": [
      "<class 'pandas.core.frame.DataFrame'>\n",
      "Index: 13928 entries, 0 to 25770\n",
      "Data columns (total 12 columns):\n",
      " #   Column         Non-Null Count  Dtype  \n",
      "---  ------         --------------  -----  \n",
      " 0   rentfaster_id  13928 non-null  int64  \n",
      " 1   city           13928 non-null  object \n",
      " 2   province       13928 non-null  object \n",
      " 3   address        13928 non-null  object \n",
      " 4   latitude       13928 non-null  float64\n",
      " 5   longitude      13928 non-null  float64\n",
      " 6   lease_term     13928 non-null  object \n",
      " 7   type           13928 non-null  object \n",
      " 8   price          13928 non-null  float64\n",
      " 9   beds           13928 non-null  int64  \n",
      " 10  baths          13928 non-null  int64  \n",
      " 11  sq_feet        13928 non-null  object \n",
      "dtypes: float64(3), int64(3), object(6)\n",
      "memory usage: 1.4+ MB\n"
     ]
    }
   ],
   "source": [
    "df.info()"
   ]
  },
  {
   "cell_type": "code",
   "execution_count": 294,
   "id": "ea62bba3",
   "metadata": {},
   "outputs": [
    {
     "data": {
      "text/plain": [
       "array(['1403', '1496', '1180', ..., '260', '286', '334'], dtype=object)"
      ]
     },
     "execution_count": 294,
     "metadata": {},
     "output_type": "execute_result"
    }
   ],
   "source": [
    "df['sq_feet'].unique()"
   ]
  },
  {
   "cell_type": "code",
   "execution_count": 295,
   "id": "a519c4d9",
   "metadata": {},
   "outputs": [
    {
     "data": {
      "text/plain": [
       "array([1403., 1496., 1180., ...,  260.,  286.,  334.])"
      ]
     },
     "execution_count": 295,
     "metadata": {},
     "output_type": "execute_result"
    }
   ],
   "source": [
    "# Converting baths column to numeric (int)\n",
    "df['sq_feet'] = pd.to_numeric(df['sq_feet'], errors='coerce')\n",
    "df['sq_feet'].unique()"
   ]
  },
  {
   "cell_type": "code",
   "execution_count": 296,
   "id": "73f352c9",
   "metadata": {},
   "outputs": [
    {
     "name": "stdout",
     "output_type": "stream",
     "text": [
      "<class 'pandas.core.frame.DataFrame'>\n",
      "Index: 13928 entries, 0 to 25770\n",
      "Data columns (total 12 columns):\n",
      " #   Column         Non-Null Count  Dtype  \n",
      "---  ------         --------------  -----  \n",
      " 0   rentfaster_id  13928 non-null  int64  \n",
      " 1   city           13928 non-null  object \n",
      " 2   province       13928 non-null  object \n",
      " 3   address        13928 non-null  object \n",
      " 4   latitude       13928 non-null  float64\n",
      " 5   longitude      13928 non-null  float64\n",
      " 6   lease_term     13928 non-null  object \n",
      " 7   type           13928 non-null  object \n",
      " 8   price          13928 non-null  float64\n",
      " 9   beds           13928 non-null  int64  \n",
      " 10  baths          13928 non-null  int64  \n",
      " 11  sq_feet        13671 non-null  float64\n",
      "dtypes: float64(4), int64(3), object(5)\n",
      "memory usage: 1.4+ MB\n"
     ]
    }
   ],
   "source": [
    "df.info()"
   ]
  },
  {
   "cell_type": "code",
   "execution_count": 297,
   "id": "155bc855",
   "metadata": {},
   "outputs": [
    {
     "data": {
      "text/plain": [
       "array(['Long Term', 'Negotiable', 'Short Term', '12 months', 'months',\n",
       "       '6 months'], dtype=object)"
      ]
     },
     "execution_count": 297,
     "metadata": {},
     "output_type": "execute_result"
    }
   ],
   "source": [
    "df['lease_term'].unique()"
   ]
  },
  {
   "cell_type": "code",
   "execution_count": 298,
   "id": "6c5fec8b",
   "metadata": {},
   "outputs": [
    {
     "data": {
      "text/plain": [
       "array(['Long Term', 'Negotiable', 'Short Term', '1 year',\n",
       "       'Month to Month', '0.5 year'], dtype=object)"
      ]
     },
     "execution_count": 298,
     "metadata": {},
     "output_type": "execute_result"
    }
   ],
   "source": [
    "# Renaming values in lease_term column\n",
    "df['lease_term'] = df['lease_term'].str.replace('12 months', '1 year')\n",
    "df['lease_term'] = df['lease_term'].str.replace('6 months', '0.5 year')\n",
    "df['lease_term'] = df['lease_term'].str.replace('months', 'Month to Month')\n",
    "\n",
    "df['lease_term'].unique()"
   ]
  },
  {
   "cell_type": "code",
   "execution_count": 299,
   "id": "0322d676",
   "metadata": {},
   "outputs": [
    {
     "data": {
      "text/plain": [
       "rentfaster_id      0\n",
       "city               0\n",
       "province           0\n",
       "address            0\n",
       "latitude           0\n",
       "longitude          0\n",
       "lease_term         0\n",
       "type               0\n",
       "price              0\n",
       "beds               0\n",
       "baths              0\n",
       "sq_feet          257\n",
       "dtype: int64"
      ]
     },
     "execution_count": 299,
     "metadata": {},
     "output_type": "execute_result"
    }
   ],
   "source": [
    "# Final check (checking for null values again)\n",
    "\n",
    "df.isnull().sum()"
   ]
  },
  {
   "cell_type": "code",
   "execution_count": 300,
   "id": "69373089",
   "metadata": {},
   "outputs": [
    {
     "data": {
      "text/plain": [
       "rentfaster_id      int64\n",
       "city              object\n",
       "province          object\n",
       "address           object\n",
       "latitude         float64\n",
       "longitude        float64\n",
       "lease_term        object\n",
       "type              object\n",
       "price            float64\n",
       "beds               int64\n",
       "baths              int64\n",
       "sq_feet          float64\n",
       "dtype: object"
      ]
     },
     "execution_count": 300,
     "metadata": {},
     "output_type": "execute_result"
    }
   ],
   "source": [
    "df.dtypes"
   ]
  },
  {
   "cell_type": "code",
   "execution_count": 301,
   "id": "aced5097",
   "metadata": {},
   "outputs": [
    {
     "data": {
      "text/html": [
       "<div>\n",
       "<style scoped>\n",
       "    .dataframe tbody tr th:only-of-type {\n",
       "        vertical-align: middle;\n",
       "    }\n",
       "\n",
       "    .dataframe tbody tr th {\n",
       "        vertical-align: top;\n",
       "    }\n",
       "\n",
       "    .dataframe thead th {\n",
       "        text-align: right;\n",
       "    }\n",
       "</style>\n",
       "<table border=\"1\" class=\"dataframe\">\n",
       "  <thead>\n",
       "    <tr style=\"text-align: right;\">\n",
       "      <th></th>\n",
       "      <th>rentfaster_id</th>\n",
       "      <th>city</th>\n",
       "      <th>province</th>\n",
       "      <th>address</th>\n",
       "      <th>latitude</th>\n",
       "      <th>longitude</th>\n",
       "      <th>lease_term</th>\n",
       "      <th>type</th>\n",
       "      <th>price</th>\n",
       "      <th>beds</th>\n",
       "      <th>baths</th>\n",
       "      <th>sq_feet</th>\n",
       "    </tr>\n",
       "  </thead>\n",
       "  <tbody>\n",
       "  </tbody>\n",
       "</table>\n",
       "</div>"
      ],
      "text/plain": [
       "Empty DataFrame\n",
       "Columns: [rentfaster_id, city, province, address, latitude, longitude, lease_term, type, price, beds, baths, sq_feet]\n",
       "Index: []"
      ]
     },
     "execution_count": 301,
     "metadata": {},
     "output_type": "execute_result"
    }
   ],
   "source": [
    "# Checking for negative values in the price column\n",
    "df[df[\"price\"] < 0]"
   ]
  },
  {
   "cell_type": "code",
   "execution_count": 302,
   "id": "0619f994",
   "metadata": {},
   "outputs": [],
   "source": [
    "# Exporting the cleaned dataset to a new CSV file\n",
    "df.to_csv('rentfaster_cleaned.csv', index=False)"
   ]
  }
 ],
 "metadata": {
  "kernelspec": {
   "display_name": "Python 3",
   "language": "python",
   "name": "python3"
  },
  "language_info": {
   "codemirror_mode": {
    "name": "ipython",
    "version": 3
   },
   "file_extension": ".py",
   "mimetype": "text/x-python",
   "name": "python",
   "nbconvert_exporter": "python",
   "pygments_lexer": "ipython3",
   "version": "3.13.0"
  }
 },
 "nbformat": 4,
 "nbformat_minor": 5
}
